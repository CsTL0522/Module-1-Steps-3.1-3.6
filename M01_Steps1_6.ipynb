{
 "cells": [
  {
   "cell_type": "code",
   "execution_count": 1,
   "id": "76d69aa2-5666-4dd6-ba58-1abf6fa29b9e",
   "metadata": {},
   "outputs": [
    {
     "name": "stdout",
     "output_type": "stream",
     "text": [
      "Sum = 3600\n"
     ]
    }
   ],
   "source": [
    "minute = 60\n",
    "hour = 60\n",
    "seconds_per_hour = minute * hour\n",
    "print(\"Sum =\" , seconds_per_hour)"
   ]
  },
  {
   "cell_type": "code",
   "execution_count": 2,
   "id": "4b0b3ebe-24dc-4e6e-ba09-be62a7e5a617",
   "metadata": {},
   "outputs": [
    {
     "name": "stdout",
     "output_type": "stream",
     "text": [
      "Sum = 86400\n"
     ]
    }
   ],
   "source": [
    "seconds_per_day = 24 * seconds_per_hour\n",
    "print(\"Sum =\" ,seconds_per_day)\n"
   ]
  },
  {
   "cell_type": "code",
   "execution_count": 4,
   "id": "ca4de256-dea5-42c1-a17d-32c447911331",
   "metadata": {},
   "outputs": [
    {
     "data": {
      "text/plain": [
       "24.0"
      ]
     },
     "execution_count": 4,
     "metadata": {},
     "output_type": "execute_result"
    }
   ],
   "source": [
    "86400 / 3600"
   ]
  },
  {
   "cell_type": "code",
   "execution_count": 5,
   "id": "e5206fea-5bbb-46b3-ace7-c22937b32b46",
   "metadata": {},
   "outputs": [
    {
     "data": {
      "text/plain": [
       "24"
      ]
     },
     "execution_count": 5,
     "metadata": {},
     "output_type": "execute_result"
    }
   ],
   "source": [
    "86400 // 3600"
   ]
  },
  {
   "cell_type": "code",
   "execution_count": null,
   "id": "e6f6ebc2-4b3b-4e0c-b640-9aa89a6f71c3",
   "metadata": {},
   "outputs": [],
   "source": []
  }
 ],
 "metadata": {
  "kernelspec": {
   "display_name": "Python 3 (ipykernel)",
   "language": "python",
   "name": "python3"
  },
  "language_info": {
   "codemirror_mode": {
    "name": "ipython",
    "version": 3
   },
   "file_extension": ".py",
   "mimetype": "text/x-python",
   "name": "python",
   "nbconvert_exporter": "python",
   "pygments_lexer": "ipython3",
   "version": "3.12.4"
  }
 },
 "nbformat": 4,
 "nbformat_minor": 5
}
